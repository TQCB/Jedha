{
 "cells": [
  {
   "cell_type": "markdown",
   "metadata": {},
   "source": [
    "It is said that if Christopher Columbus had set aside €1 that he had left at 2% interest per year, today his heirs would no longer need to work to live their lives. Let's try to calculate the same thing for our savings.\n",
    "\n",
    "1. So let's create a function that will allow us to know how much money a user will have in total after a certain number of years.\n",
    "\n",
    "2. The user should be able to call the function which will then ask for :\n",
    "\n",
    "- The total amount he wishes to place\n",
    "- The number of years he wants to invest his money for\n",
    "- The rate of interest to which he is entitled\n",
    "\n",
    "3. Pay attention to the errors that the user may enter.\n",
    "\n",
    "- If he enters a string of characters rather than a number, an error should be displayed.\n",
    "- If the user enters negative numbers, an error should also be output.\n",
    "- Finally, it is very likely that the user will write the interest rate as a percentage (e.g. 10%). Raise an error if this is the case, to prevent him from inputting a percentage.\n",
    "\n",
    "4. Finally, the program should only show one number with a maximum of two digits after the decimal point."
   ]
  },
  {
   "cell_type": "markdown",
   "metadata": {},
   "source": []
  },
  {
   "cell_type": "code",
   "execution_count": 9,
   "metadata": {},
   "outputs": [
    {
     "data": {
      "text/plain": [
       "10.46"
      ]
     },
     "execution_count": 9,
     "metadata": {},
     "output_type": "execute_result"
    }
   ],
   "source": [
    "def interest(initial, years, rate, combined):\n",
    "    if type(initial) == str:\n",
    "        print(\"Strings are not accepted!\")\n",
    "        return\n",
    "    elif type(years) == str:\n",
    "        print(\"Strings are not accepted!\")\n",
    "        return\n",
    "    elif type(rate) == str:\n",
    "        print(\"Strings are not accepted!\")\n",
    "        return\n",
    "    final = initial * (rate ** years)\n",
    "    final = round(final, 2)\n",
    "    \n",
    "    if combined == \"Y\":\n",
    "        return final\n",
    "    else:\n",
    "        return round(final - initial, 2)\n",
    "    \n",
    "    \n",
    "\n",
    "initial = float(input(\"What is your initial invested amount?\"))\n",
    "years = float(input(\"For how long are you investing for?\"))\n",
    "rate = float(input(\"What is the interest rate of your investment?(Input as xx%)\"))\n",
    "combined = input(\"Would you like the combined result or only your interest returns? (Y/N)\")\n",
    "\n",
    "interest(initial, years, rate, combined)"
   ]
  },
  {
   "cell_type": "code",
   "execution_count": 24,
   "metadata": {},
   "outputs": [],
   "source": [
    "def interest(initial, years, rate, combined):\n",
    "      final = initial * (rate ** years)\n",
    "      final = round(final, 2)\n",
    "    \n",
    "      if combined == \"Y\":\n",
    "         return final\n",
    "      else:\n",
    "         return round(final - initial, 2)"
   ]
  },
  {
   "cell_type": "code",
   "execution_count": 27,
   "metadata": {},
   "outputs": [
    {
     "data": {
      "text/plain": [
       "90.53"
      ]
     },
     "execution_count": 27,
     "metadata": {},
     "output_type": "execute_result"
    }
   ],
   "source": [
    "try:\n",
    "    initial = float(input(\"What is your initial invested amount?\"))\n",
    "    years = float(input(\"For how long are you investing for?\"))\n",
    "    rate = float(input(\"What is the interest rate of your investment?(Input as x.xx)\"))\n",
    "    combined = input(\"Would you like the combined result or only your interest returns? (Y/N)\")\n",
    "except:\n",
    "    print(\"Do not use strings!\")\n",
    "\n",
    "interest(initial, years, rate, combined)"
   ]
  }
 ],
 "metadata": {
  "kernelspec": {
   "display_name": "Python 3",
   "language": "python",
   "name": "python3"
  },
  "language_info": {
   "codemirror_mode": {
    "name": "ipython",
    "version": 3
   },
   "file_extension": ".py",
   "mimetype": "text/x-python",
   "name": "python",
   "nbconvert_exporter": "python",
   "pygments_lexer": "ipython3",
   "version": "3.12.2"
  }
 },
 "nbformat": 4,
 "nbformat_minor": 2
}
